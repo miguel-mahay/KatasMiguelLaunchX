{
 "cells": [
  {
   "cell_type": "markdown",
   "metadata": {},
   "source": [
    "# Ejercicio 1. Trabajar con argumentos en funciones\n",
    "\n",
    "En este ejercicio, construirás un informe de combustible que requiere información de varias ubicaciones de combustible en todo el cohete.\n",
    "\n",
    "Comienza por crear una función que necesite tres lecturas de combustible y devuelva un informe:"
   ]
  },
  {
   "cell_type": "code",
   "execution_count": 17,
   "metadata": {},
   "outputs": [
    {
     "name": "stdout",
     "output_type": "stream",
     "text": [
      "Fuel report:\n",
      "    Average fuel: 74.33333333333333 liters\n",
      "    Tank 1: 100 liters\n",
      "    Tank 2: 55 liters\n",
      "    Tank 3: 68 liters\n",
      "    \n",
      "Fuel report:\n",
      "    Average fuel: 614.3333333333334 liters\n",
      "    Tank 1: 800 liters\n",
      "    Tank 2: 355 liters\n",
      "    Tank 3: 688 liters\n",
      "    \n"
     ]
    }
   ],
   "source": [
    "# Función para leer 3 tanques de combustible y muestre el promedio\n",
    "def fuel_report(tank_1, tank_2, tank_3):\n",
    "    average = (tank_1 + tank_2 + tank_3) / 3\n",
    "    return f\"\"\"Fuel report:\n",
    "    Average fuel: {average} liters\n",
    "    Tank 1: {tank_1} liters\n",
    "    Tank 2: {tank_2} liters\n",
    "    Tank 3: {tank_3} liters\n",
    "    \"\"\"\n",
    "# Llamamos a la funcion\n",
    "print(fuel_report(100, 55, 68))\n",
    "\n",
    "# Funcion promedio\n",
    "def average_fuel(*values):\n",
    "    total_fuel = sum(values)\n",
    "    items = len(values)\n",
    "\n",
    "    return total_fuel / items\n",
    "\n",
    "# Actualiza la función\n",
    "def fuel_report(tank_1, tank_2, tank_3):\n",
    "    return f\"\"\"Fuel report:\n",
    "    Average fuel: {average_fuel(tank_1, tank_2, tank_3)} liters\n",
    "    Tank 1: {tank_1} liters\n",
    "    Tank 2: {tank_2} liters\n",
    "    Tank 3: {tank_3} liters\n",
    "    \"\"\"\n",
    "\n",
    "print(fuel_report(800, 355, 688))"
   ]
  },
  {
   "cell_type": "markdown",
   "metadata": {},
   "source": [
    "# Ejercicio 2. Trabajar con argumentos de palabras claves en funciones\n",
    "\n",
    "En este ejercicio, construirás un informe de cohete que requiere varias piezas de información, como el tiempo hasta el destino, el combustible a la izquierda y el nombre del destino. Comienza por crear una función que creará un informe preciso de la misión:"
   ]
  },
  {
   "cell_type": "code",
   "execution_count": 20,
   "metadata": {},
   "outputs": [
    {
     "name": "stdout",
     "output_type": "stream",
     "text": [
      "Destination: Mars\n",
      "    Travel time: 90 minutes\n",
      "    Total fuel: 350 liters\n",
      "    \n"
     ]
    }
   ],
   "source": [
    "# Función con un informe de la misión. Considera hora de prelanzamiento, tiempo de vuelo, destino, tanque externo y tanque interno\n",
    "def mission_report(prelaunch_time, flight_time, destination, external_tank, internal_tank):\n",
    "    return f\"\"\"Destination: {destination}\n",
    "    Travel time: {prelaunch_time + flight_time} minutes\n",
    "    Total fuel: {external_tank + internal_tank} liters\n",
    "    \"\"\"\n",
    "print(mission_report(40, 50, \"Mars\", 100, 250))"
   ]
  },
  {
   "cell_type": "markdown",
   "metadata": {},
   "source": [
    "La función es problemática porque no se puede adaptar para minutos adicionales o tanques adicionales de combustible. Hazlo más flexible permitiendo cualquier número de pasos basados en el tiempo y cualquier número de tanques. En lugar de usar *args y **kwargs, aprovecha el hecho de que puedes usar cualquier nombre que desees. Asegurate que la función sea más legible mediante el uso de nombres de variables que están asociados con las entradas, como *minutes y **fuel_reservoir"
   ]
  },
  {
   "cell_type": "code",
   "execution_count": 21,
   "metadata": {},
   "outputs": [
    {
     "name": "stdout",
     "output_type": "stream",
     "text": [
      "Destination: Jupiter\n",
      "    Travel time: 275 minutes\n",
      "    Total fuel: 1750 liters\n",
      "    \n"
     ]
    }
   ],
   "source": [
    "# Escribe tu nueva función de reporte considerando lo anterior\n",
    "def mission_report(destination, *minutes, **fuel_reservoirs):\n",
    "    return f\"\"\"Destination: {destination}\n",
    "    Travel time: {sum(minutes)} minutes\n",
    "    Total fuel: {sum(fuel_reservoirs.values())} liters\n",
    "    \"\"\"\n",
    "\n",
    "print(mission_report(\"Jupiter\", 50, 150, 75, external_tank=800, internal_tank=950))"
   ]
  },
  {
   "cell_type": "markdown",
   "metadata": {},
   "source": [
    "Debido a que el combustible que queda en los tanques es específico de cada tanque, actualiza la función para usar el nombre de cada tanque en el informe"
   ]
  },
  {
   "cell_type": "code",
   "execution_count": 37,
   "metadata": {},
   "outputs": [
    {
     "name": "stdout",
     "output_type": "stream",
     "text": [
      "Destination: Jupiter\n",
      "    Travel time: 275 minutes\n",
      "    Total fuel: 2250 liters\n",
      "    external tank --> 800 liters\n",
      "internal tank --> 950 liters\n",
      "emergency tank --> 500 liters\n",
      "\n"
     ]
    }
   ],
   "source": [
    "# Escribe tu nueva función\n",
    "def mission_report(destination, *minutes, **fuel_reservoirs):\n",
    "    main_report = f\"\"\"Destination: {destination}\n",
    "    Travel time: {sum(minutes)} minutes\n",
    "    Total fuel: {sum(fuel_reservoirs.values())} liters\n",
    "    \"\"\"\n",
    "\n",
    "    for tank_name, liters in fuel_reservoirs.items():\n",
    "        main_report += f\"{tank_name} tank --> {liters} liters\\n\"\n",
    "    return main_report\n",
    "    \n",
    "\n",
    "print(mission_report(\"Jupiter\", 50, 150, 75, external=800, internal=950, emergency = 500))"
   ]
  }
 ],
 "metadata": {
  "interpreter": {
   "hash": "c2162bde8eeb14dfd9c7742f3596c73464ca0724786709d14167b87db50c8fed"
  },
  "kernelspec": {
   "display_name": "Python 3.10.2 64-bit",
   "language": "python",
   "name": "python3"
  },
  "language_info": {
   "codemirror_mode": {
    "name": "ipython",
    "version": 3
   },
   "file_extension": ".py",
   "mimetype": "text/x-python",
   "name": "python",
   "nbconvert_exporter": "python",
   "pygments_lexer": "ipython3",
   "version": "3.10.2"
  },
  "orig_nbformat": 4
 },
 "nbformat": 4,
 "nbformat_minor": 2
}
