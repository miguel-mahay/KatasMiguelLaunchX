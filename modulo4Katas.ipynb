{
 "cells": [
  {
   "cell_type": "code",
   "execution_count": null,
   "metadata": {},
   "outputs": [],
   "source": []
  },
  {
   "cell_type": "markdown",
   "metadata": {},
   "source": [
    "# Ejercicio 1: Transformar cadenas\n",
    "\n",
    "Texto con el que se trabajará:\n",
    "**Interesting facts about the Moon. The Moon is Earth's only satellite. There are several interesting facts about the Moon and how it affects life here on Earth. On average, the Moon moves 4cm away from the Earth every year. This yearly drift is not significant enough to cause immediate effects on Earth. The highest daylight temperature of the Moon is 127 C.**\n"
   ]
  },
  {
   "cell_type": "code",
   "execution_count": 20,
   "metadata": {},
   "outputs": [
    {
     "name": "stdout",
     "output_type": "stream",
     "text": [
      "interesting facts about the moon. the moon is earth's only satellite. there are several interesting facts about the moon and how it affects life here on earth. on average, the moon moves 4cm away from the earth every year. this yearly drift is not significant enough to cause immediate effects on earth. the highest daylight temperature of the moon is 127 c\n",
      "\n",
      "\n",
      "['interesting facts about the moon', \"the moon is earth's only satellite\", 'there are several interesting facts about the moon and how it affects life here on earth', 'on average, the moon moves 4cm away from the earth every year', 'this yearly drift is not significant enough to cause immediate effects on earth', 'the highest daylight temperature of the moon is 127 c']\n",
      "\n",
      "\n",
      "['average', 'temperature', 'distance']\n",
      "\n",
      "\n",
      "on average, the moon moves 4cm away from the earth every year\n",
      "the highest daylight temperature of the moon is 127 c\n",
      "\n",
      "\n",
      "on average, the moon moves 4cm away from the earth every year\n",
      "the highest daylight temperature of the moon is 127 celsius\n"
     ]
    }
   ],
   "source": [
    "text = \"\"\"Interesting facts about the Moon. The Moon is Earth's only satellite. There are several interesting facts about the Moon and how it affects life here on Earth. On average, the Moon moves 4cm away from the Earth every year. This yearly drift is not significant enough to cause immediate effects on Earth. The highest daylight temperature of the Moon is 127 C\"\"\"\n",
    "\n",
    "#Convertir todo el texto en minisculas\n",
    "text_low = text.lower()\n",
    "print(text_low)\n",
    "print('\\n')\n",
    "\n",
    "#Dividir el texto en cada oracion\n",
    "text_divided = text_low.split('. ')\n",
    "print(text_divided)\n",
    "print('\\n')\n",
    "\n",
    "#Definir palabras clave\n",
    "key_words = [\"average\", \"temperature\", \"distance\"]\n",
    "print(key_words)\n",
    "print('\\n')\n",
    "\n",
    "#Ciclo for para recorrer la cadena\n",
    "for phrase in text_divided:\n",
    "    for key_word in key_words:\n",
    "        if key_word in phrase:\n",
    "            print(phrase)\n",
    "            break\n",
    "\n",
    "print('\\n')\n",
    "\n",
    "#Ciclo for para cambiar a Celsius\n",
    "for phrase in text_divided:\n",
    "    for key_word in key_words:\n",
    "        if key_word in phrase:\n",
    "            print(phrase.replace(' c', ' celsius'))\n",
    "            break\n"
   ]
  },
  {
   "cell_type": "markdown",
   "metadata": {},
   "source": [
    "# Ejercicio 2: Formateando cadenas\n",
    "En este ejercicio, se utilizan variables que contienen datos clave sobre la gravedad en varias lunas y luego se utilizan para dar formato e imprimir la información.\n",
    "\n",
    "El formato tiene que acomodar información sobre otras lunas, por lo que debe ser genérico.\n",
    "\n",
    "En lugar de reemplazar las variables en una cadena larga como parte de un párrafo, utiliza la información para presentarla en un formato tabular. El resultado debería verse así:\n",
    "\n",
    "\n",
    "Gravity Facts about Ganymede\n",
    "\n",
    "Planet Name: Mars\n",
    "\n",
    "Gravity on Ganymede: 1.4300000000000002 m/s2"
   ]
  },
  {
   "cell_type": "code",
   "execution_count": 48,
   "metadata": {},
   "outputs": [
    {
     "name": "stdout",
     "output_type": "stream",
     "text": [
      "Gavity facts about Moon\n",
      "------------------------------------------\n",
      "Planet name: Earth \n",
      "Graivyt on Moon: 1.6199999999999999 m/s2 \n",
      "\n",
      "\n",
      "\n",
      "Gavity facts about Moon\n",
      "------------------------------------------\n",
      "Planet name: Earth \n",
      "Graivyt on Moon: 1.6199999999999999 m/s2 \n",
      "\n",
      "\n",
      "\n",
      "Gavity facts about Genymede\n",
      "------------------------------------------\n",
      "Planet name: Mars \n",
      "Graivyt on Genymede: 1.4300000000000002 m/s2 \n",
      "\n",
      "\n",
      "\n",
      "\n",
      "\n",
      "Gavity facts about Genymede\n",
      "------------------------------------------\n",
      "Planet name: Mars \n",
      "Graivyt on Genymede: 1.4300000000000002 m/s2 \n",
      "\n"
     ]
    }
   ],
   "source": [
    "#Datos\n",
    "name = \"Moon\"\n",
    "gravity = 0.00162 # in kms\n",
    "planet = \"Earth\"\n",
    "\n",
    "#Crear titulo\n",
    "title = f'Gavity facts about {name}'\n",
    "\n",
    "#Creamos la plantilla\n",
    "info = f\"\"\"{'------------------------------------------'}\n",
    "Planet name: {planet} \n",
    "Graivyt on {name}: {gravity * 1000} m/s2 \n",
    "\"\"\"\n",
    "\n",
    "#Union de ambas cadenas\n",
    "template = f\"\"\"{title}\n",
    "{info}\"\"\"\n",
    "\n",
    "print(template)\n",
    "print('\\n')\n",
    "\n",
    "#Nuevos datos\n",
    "name = \"Genymede\"\n",
    "gravity = 0.00143 # in kms\n",
    "planet = \"Mars\"\n",
    "\n",
    "print(template)\n",
    "print('\\n')\n",
    "\n",
    "#Nueva plantilla\n",
    "new_template = f\"\"\"Gavity facts about {name}\n",
    "{'------------------------------------------'}\n",
    "Planet name: {planet} \n",
    "Graivyt on {name}: {gravity * 1000} m/s2 \n",
    "\"\"\"\n",
    "print(new_template)\n",
    "print('\\n')\n",
    "print('\\n')\n",
    "\n",
    "\n",
    "#Pista\n",
    "print(new_template.format(nombre=name, planeta=planet, gravedad=gravity*1000))\n",
    "\n"
   ]
  }
 ],
 "metadata": {
  "interpreter": {
   "hash": "c2162bde8eeb14dfd9c7742f3596c73464ca0724786709d14167b87db50c8fed"
  },
  "kernelspec": {
   "display_name": "Python 3.10.2 64-bit",
   "language": "python",
   "name": "python3"
  },
  "language_info": {
   "codemirror_mode": {
    "name": "ipython",
    "version": 3
   },
   "file_extension": ".py",
   "mimetype": "text/x-python",
   "name": "python",
   "nbconvert_exporter": "python",
   "pygments_lexer": "ipython3",
   "version": "3.10.2"
  },
  "orig_nbformat": 4
 },
 "nbformat": 4,
 "nbformat_minor": 2
}
