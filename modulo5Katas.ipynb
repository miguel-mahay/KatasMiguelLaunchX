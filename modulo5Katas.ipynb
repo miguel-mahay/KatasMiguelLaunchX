{
 "cells": [
  {
   "cell_type": "markdown",
   "metadata": {},
   "source": [
    "# Ejercicio 1. Utilizar operadores aritméticos\n",
    "\n",
    "Exploremos cómo podemos crear un programa que pueda calcular la distancia entre dos planetas. Comenzaremos usando dos distancias de planetas: Tierra (149.597.870 km) y Júpiter (778.547.200 km)."
   ]
  },
  {
   "cell_type": "code",
   "execution_count": 14,
   "metadata": {},
   "outputs": [
    {
     "name": "stdout",
     "output_type": "stream",
     "text": [
      "La distancia en kilometros es: 628949330\n",
      "La distancia en millas es: 390577534\n"
     ]
    }
   ],
   "source": [
    "#Crear varriables\n",
    "primer_planeta = 149597870\n",
    "segundo_planeta = 778547200\n",
    "\n",
    "#Calcular la distancia entre los planetas\n",
    "distancia_km = segundo_planeta - primer_planeta\n",
    "distancia_mi = round(distancia_km * 0.621)\n",
    "print(\"La distancia en kilometros es: \" + str(distancia_km))\n",
    "print(\"La distancia en millas es: \" + str(distancia_mi))\n"
   ]
  },
  {
   "cell_type": "markdown",
   "metadata": {},
   "source": [
    "# Ejercicio 2. Convierte cadenas en números y usa valores absolutos\n",
    "Queremos leer la distancia del sol para dos planetas, y luego mostrar la distancia entre los planetas. Haremos esto usando input para leer los valores, int para convertir a entero y luego abs para convertir el resultado en su valor absoluto."
   ]
  },
  {
   "cell_type": "code",
   "execution_count": 29,
   "metadata": {},
   "outputs": [
    {
     "name": "stdout",
     "output_type": "stream",
     "text": [
      "La distancia entre los planetas es de 4437200000 kilometros\n",
      "La distancia entre los planetas es de 2755501200.0 millas\n"
     ]
    }
   ],
   "source": [
    "#Almacenar las entradas del usuario\n",
    "planeta_uno = input(\"Digite la distancia (en km) del sol al primer planeta\")\n",
    "planeta_dos = input(\"Digite la distancia (en km) del sol al segundo planeta\")\n",
    "\n",
    "#Convertir las cadenas a numeros enteros\n",
    "planeta_uno = int(planeta_uno)\n",
    "planeta_dos = int(planeta_dos)\n",
    "\n",
    "#Calcular la distancia entre planetas y determinar el valor absoluto\n",
    "distancia_planetas = abs(planeta_dos - planeta_uno)\n",
    "print(\"La distancia entre los planetas es de \" + str(distancia_planetas) + \" kilometros\")\n",
    "\n",
    "#Convertir km a millas\n",
    "distancia_planetas_millas = abs(distancia_planetas * 0.621)\n",
    "print(\"La distancia entre los planetas es de \" + str(distancia_planetas_millas) + \" millas\")\n"
   ]
  }
 ],
 "metadata": {
  "interpreter": {
   "hash": "c2162bde8eeb14dfd9c7742f3596c73464ca0724786709d14167b87db50c8fed"
  },
  "kernelspec": {
   "display_name": "Python 3.10.2 64-bit",
   "language": "python",
   "name": "python3"
  },
  "language_info": {
   "codemirror_mode": {
    "name": "ipython",
    "version": 3
   },
   "file_extension": ".py",
   "mimetype": "text/x-python",
   "name": "python",
   "nbconvert_exporter": "python",
   "pygments_lexer": "ipython3",
   "version": "3.10.2"
  },
  "orig_nbformat": 4
 },
 "nbformat": 4,
 "nbformat_minor": 2
}
